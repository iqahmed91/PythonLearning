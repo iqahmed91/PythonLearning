{
 "cells": [
  {
   "cell_type": "code",
   "execution_count": 1,
   "id": "cd9365dd",
   "metadata": {},
   "outputs": [
    {
     "name": "stdout",
     "output_type": "stream",
     "text": [
      "<class 'str'>\n",
      "3\n",
      "iqbal e a a ahmed e\n",
      "4\n",
      "iqbal e a a ahmed e\n",
      "iqbal e a a ahmed e\n",
      "b'iqbal E A A AHMED e'\n",
      "False\n",
      "True\n"
     ]
    }
   ],
   "source": [
    "name = 'iqbal E A A AHMED e'\n",
    "name.capitalize()\n",
    "\n",
    "print(type(name))\n",
    "dir(str)\n",
    "print(name.find('a'))\n",
    "print(name.casefold())\n",
    "print(name.casefold().count('a'))\n",
    "print(name.lower())\n",
    "print(name.casefold())\n",
    "print(name.encode('utf-8'))\n",
    "print (name.startswith('iQ'))\n",
    "print (name.endswith('e'))\n",
    "\n"
   ]
  },
  {
   "cell_type": "code",
   "execution_count": 2,
   "id": "3d7926dd",
   "metadata": {},
   "outputs": [
    {
     "name": "stdout",
     "output_type": "stream",
     "text": [
      "name:                Iqbal               Ahmed\n",
      "father's name:       M.                  Bachal\n"
     ]
    }
   ],
   "source": [
    "fname = \"name:\\t Iqbal \\t Ahmed\\nfather's name:\\t M. \\t Bachal\"\n",
    "\n",
    "print(fname.expandtabs(20))"
   ]
  },
  {
   "cell_type": "code",
   "execution_count": 3,
   "id": "c451b510",
   "metadata": {},
   "outputs": [
    {
     "name": "stdout",
     "output_type": "stream",
     "text": [
      "name :               Qasim \n",
      "class :              Sylani\n"
     ]
    }
   ],
   "source": [
    "name =  \"name :\\t {nm} \\nclass :\\t {cl}\"\n",
    "data = {\"nm\":'Qasim', \"cl\":\"Sylani\"}\n",
    "\n",
    "print(name.format_map(data).expandtabs(20))\n"
   ]
  },
  {
   "cell_type": "code",
   "execution_count": 17,
   "id": "9a7af9d1",
   "metadata": {},
   "outputs": [
    {
     "name": "stdout",
     "output_type": "stream",
     "text": [
      "True\n",
      "False\n",
      "True\n"
     ]
    }
   ],
   "source": [
    "name = \"3\"\n",
    "print(name.isalnum())\n",
    "print(name.isalpha())\n",
    "print(name.isnumeric())"
   ]
  },
  {
   "cell_type": "code",
   "execution_count": 24,
   "id": "aff513fe",
   "metadata": {},
   "outputs": [
    {
     "data": {
      "text/plain": [
       "['capitalize',\n",
       " 'casefold',\n",
       " 'center',\n",
       " 'count',\n",
       " 'encode',\n",
       " 'endswith',\n",
       " 'expandtabs',\n",
       " 'find',\n",
       " 'format',\n",
       " 'index',\n",
       " 'isalnum',\n",
       " 'isalpha',\n",
       " 'isascii',\n",
       " 'isdecimal',\n",
       " 'isdigit',\n",
       " 'isidentifier',\n",
       " 'islower',\n",
       " 'isnumeric',\n",
       " 'isprintable',\n",
       " 'isspace',\n",
       " 'istitle',\n",
       " 'isupper',\n",
       " 'join',\n",
       " 'ljust',\n",
       " 'lower',\n",
       " 'lstrip',\n",
       " 'maketrans',\n",
       " 'partition',\n",
       " 'removeprefix',\n",
       " 'removesuffix',\n",
       " 'replace',\n",
       " 'rfind',\n",
       " 'rindex',\n",
       " 'rjust',\n",
       " 'rpartition',\n",
       " 'rsplit',\n",
       " 'rstrip',\n",
       " 'split',\n",
       " 'splitlines',\n",
       " 'startswith',\n",
       " 'strip',\n",
       " 'swapcase',\n",
       " 'title',\n",
       " 'translate',\n",
       " 'upper',\n",
       " 'zfill']"
      ]
     },
     "execution_count": 24,
     "metadata": {},
     "output_type": "execute_result"
    }
   ],
   "source": [
    "a = [i for i in dir(name) if '_' not in i]\n",
    "a"
   ]
  },
  {
   "cell_type": "code",
   "execution_count": null,
   "id": "35ed6aff",
   "metadata": {},
   "outputs": [],
   "source": [
    "# List Data type\n",
    "# index\n",
    "# slicing\n",
    "# method\n",
    "# Attributes\n",
    "\n"
   ]
  },
  {
   "cell_type": "code",
   "execution_count": 28,
   "id": "cf4c2734",
   "metadata": {},
   "outputs": [
    {
     "name": "stdout",
     "output_type": "stream",
     "text": [
      "shahzad\n"
     ]
    }
   ],
   "source": [
    "names = ['iqbal','ahmed','noman','shahzad','kamran']\n",
    "print(names[-2])"
   ]
  },
  {
   "cell_type": "code",
   "execution_count": null,
   "id": "5eb9b85e",
   "metadata": {},
   "outputs": [],
   "source": [
    "#Slicing\n",
    "#list[start:end:step]\n",
    "#defualt left to right (step=1,-1)\n",
    "#start : include\n",
    "#end: exclude\n",
    "#step:"
   ]
  },
  {
   "cell_type": "code",
   "execution_count": 32,
   "id": "6cb994af",
   "metadata": {},
   "outputs": [
    {
     "name": "stdout",
     "output_type": "stream",
     "text": [
      "ahmed\n",
      "['iqbal', 'ahmed', 'noman']\n",
      "['iqbal', 'ahmed', 'noman', 'shahzad', 'kamran']\n",
      "['iqbal', 'noman', 'kamran']\n"
     ]
    }
   ],
   "source": [
    "names = ['iqbal','ahmed','noman','shahzad','kamran']\n",
    "print(names[1])#index\n",
    "print(names[0:3])\n",
    "print(names[0:5:1])\n",
    "print(names[0:5:2])"
   ]
  },
  {
   "cell_type": "code",
   "execution_count": null,
   "id": "2b612149",
   "metadata": {},
   "outputs": [],
   "source": []
  }
 ],
 "metadata": {
  "kernelspec": {
   "display_name": "Python 3 (ipykernel)",
   "language": "python",
   "name": "python3"
  },
  "language_info": {
   "codemirror_mode": {
    "name": "ipython",
    "version": 3
   },
   "file_extension": ".py",
   "mimetype": "text/x-python",
   "name": "python",
   "nbconvert_exporter": "python",
   "pygments_lexer": "ipython3",
   "version": "3.9.12"
  }
 },
 "nbformat": 4,
 "nbformat_minor": 5
}
