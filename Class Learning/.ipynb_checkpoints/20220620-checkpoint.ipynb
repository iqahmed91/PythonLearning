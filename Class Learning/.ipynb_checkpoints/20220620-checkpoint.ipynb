{
 "cells": [
  {
   "cell_type": "markdown",
   "id": "1375b13a",
   "metadata": {},
   "source": [
    "# Controls"
   ]
  },
  {
   "cell_type": "markdown",
   "id": "ca0b77c2",
   "metadata": {},
   "source": [
    "\n",
    "* if\n",
    "    * elif\n",
    "    * else\n",
    "    \n",
    "* loop\n",
    "    * for\n",
    "    * while\n",
    "    * key_word\n",
    "        * pass\n",
    "        * continue\n",
    "        * break\n",
    "        \n",
    "* try\n",
    "    * except\n",
    "    \n",
    "* def (for creating your own function)"
   ]
  },
  {
   "cell_type": "markdown",
   "id": "5bcd66e7",
   "metadata": {},
   "source": [
    "# if\n",
    "    * elif\n",
    "    * else\n",
    "Sytanx\n",
    "\n",
    "--- \n",
    "if logic :\n",
    "    true block\n",
    "else :\n",
    "    false blook\n",
    "---"
   ]
  },
  {
   "cell_type": "code",
   "execution_count": 3,
   "id": "2e150341",
   "metadata": {},
   "outputs": [
    {
     "name": "stdout",
     "output_type": "stream",
     "text": [
      "USA\n"
     ]
    }
   ],
   "source": [
    "if False :\n",
    "    print (\"Pakistan\")\n",
    "else :\n",
    "    print (\"USA\")"
   ]
  },
  {
   "cell_type": "code",
   "execution_count": 8,
   "id": "209749bc",
   "metadata": {},
   "outputs": [
    {
     "name": "stdout",
     "output_type": "stream",
     "text": [
      "Entery any number :16\n",
      "16 is Even number \n"
     ]
    }
   ],
   "source": [
    "num = int(input(\"Entery any number :\"))\n",
    "if num % 2 == 0:\n",
    "    print(f\"{num} is Even number \")\n",
    "else :\n",
    "    print(f\"{num} is Odd number \")"
   ]
  },
  {
   "cell_type": "code",
   "execution_count": 10,
   "id": "30626da5",
   "metadata": {},
   "outputs": [
    {
     "name": "stdout",
     "output_type": "stream",
     "text": [
      "Enter User Name :Sylani\n",
      "Enter Password :kuch aur\n",
      "Please try again\n"
     ]
    }
   ],
   "source": [
    "user = input(\"Enter User Name :\")\n",
    "pwd  = input(\"Enter Password :\")\n",
    "\n",
    "if user == \"Sylani\" and pwd == \"Sylani\" :\n",
    "    print(\"User Granted\")\n",
    "else :\n",
    "    print(\"Please try again\")"
   ]
  },
  {
   "cell_type": "code",
   "execution_count": 16,
   "id": "2b06c022",
   "metadata": {},
   "outputs": [
    {
     "name": "stdout",
     "output_type": "stream",
     "text": [
      "Enter Percentage :65\n",
      "Your Grade is C\n"
     ]
    }
   ],
   "source": [
    "per = int(input(\"Enter Percentage :\"))\n",
    "if per >= 80 and per < 100 :\n",
    "    print(\"Your Grade is A\")\n",
    "elif per >= 70 and per < 80 :\n",
    "    print(\"Your Grade is B\")\n",
    "elif per >=60 and per <70 : \n",
    "    print(\"Your Grade is C\")\n",
    "else :\n",
    "    print(\"You are Fail\")"
   ]
  },
  {
   "cell_type": "code",
   "execution_count": 17,
   "id": "bad77a35",
   "metadata": {},
   "outputs": [
    {
     "data": {
      "text/plain": [
       "4.0"
      ]
     },
     "execution_count": 17,
     "metadata": {},
     "output_type": "execute_result"
    }
   ],
   "source": [
    "1 + 2 - 3 + 4 * 2/2"
   ]
  },
  {
   "cell_type": "code",
   "execution_count": null,
   "id": "5f476765",
   "metadata": {},
   "outputs": [],
   "source": []
  }
 ],
 "metadata": {
  "kernelspec": {
   "display_name": "Python 3 (ipykernel)",
   "language": "python",
   "name": "python3"
  },
  "language_info": {
   "codemirror_mode": {
    "name": "ipython",
    "version": 3
   },
   "file_extension": ".py",
   "mimetype": "text/x-python",
   "name": "python",
   "nbconvert_exporter": "python",
   "pygments_lexer": "ipython3",
   "version": "3.9.12"
  }
 },
 "nbformat": 4,
 "nbformat_minor": 5
}
