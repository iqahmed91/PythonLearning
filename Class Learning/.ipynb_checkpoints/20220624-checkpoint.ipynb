{
 "cells": [
  {
   "cell_type": "code",
   "execution_count": 7,
   "id": "9a5084fc",
   "metadata": {},
   "outputs": [
    {
     "name": "stdout",
     "output_type": "stream",
     "text": [
      "A\n",
      "B\n",
      "C\n",
      "D\n"
     ]
    }
   ],
   "source": [
    "names = [\"A\",\"B\",\"C\",\"D\"]\n",
    "for name in names :\n",
    "    print(name)"
   ]
  },
  {
   "cell_type": "code",
   "execution_count": 12,
   "id": "31996199",
   "metadata": {},
   "outputs": [
    {
     "name": "stdout",
     "output_type": "stream",
     "text": [
      "id 1\n",
      "name Qasim\n",
      "course AI\n"
     ]
    }
   ],
   "source": [
    "data = {\"id\":1,\n",
    "       \"name\":\"Qasim\",\n",
    "       \"course\":\"AI\"}\n",
    "for k in data :\n",
    "    print(k,data[k])"
   ]
  },
  {
   "cell_type": "code",
   "execution_count": 13,
   "id": "2cc2e117",
   "metadata": {},
   "outputs": [
    {
     "name": "stdout",
     "output_type": "stream",
     "text": [
      "1 3 2\n"
     ]
    }
   ],
   "source": [
    "a,b,c = 1,2,3\n",
    "print(a,c,b)"
   ]
  },
  {
   "cell_type": "code",
   "execution_count": 16,
   "id": "bc0165d4",
   "metadata": {},
   "outputs": [
    {
     "name": "stdout",
     "output_type": "stream",
     "text": [
      "dict_items([('id', 1), ('name', 'Qasim'), ('course', 'AI')])\n"
     ]
    }
   ],
   "source": [
    "print(data.items())"
   ]
  },
  {
   "cell_type": "markdown",
   "id": "e5b02498",
   "metadata": {},
   "source": [
    "# Comprehension  Style"
   ]
  },
  {
   "cell_type": "code",
   "execution_count": 18,
   "id": "1ee72881",
   "metadata": {},
   "outputs": [
    {
     "data": {
      "text/plain": [
       "'Even'"
      ]
     },
     "execution_count": 18,
     "metadata": {},
     "output_type": "execute_result"
    }
   ],
   "source": [
    "num = 20\n",
    "\"Even\" if num % 2  == 0 else \"False\"\n",
    "#True Blook if Logic else False Block"
   ]
  },
  {
   "cell_type": "markdown",
   "id": "74c25786",
   "metadata": {},
   "source": [
    "# List comperhensiv\n",
    " * aisay number nikal k dain 3/7/15\n",
    " \n",
    "     ---\n",
    " for variable in list :\n",
    "    for_loop_body\n",
    " ---\n"
   ]
  },
  {
   "cell_type": "code",
   "execution_count": 24,
   "id": "95536a5a",
   "metadata": {},
   "outputs": [
    {
     "name": "stdout",
     "output_type": "stream",
     "text": [
      "[2, 4, 6, 8, 10, 12, 14, 16, 18, 20]\n",
      "[1, 8, 27, 64, 125, 216, 343, 512, 729, 1000]\n"
     ]
    }
   ],
   "source": [
    "print([num*2 for num in range(1,11)])\n",
    "print([num**3 for num in range(1,11)])"
   ]
  },
  {
   "cell_type": "code",
   "execution_count": 26,
   "id": "ab6c3037",
   "metadata": {},
   "outputs": [
    {
     "name": "stdout",
     "output_type": "stream",
     "text": [
      "[1, 2, 3, 4, 5, 6, 7, 8, 9, 10]\n"
     ]
    }
   ],
   "source": [
    "l = []\n",
    "\n",
    "for num in range(1,11) :\n",
    "    l.append(num)\n",
    "    \n",
    "print(l)"
   ]
  },
  {
   "cell_type": "code",
   "execution_count": 27,
   "id": "bc75ad42",
   "metadata": {},
   "outputs": [
    {
     "data": {
      "text/plain": [
       "[1, 2, 3, 4, 5, 6, 7, 8, 9, 10]"
      ]
     },
     "execution_count": 27,
     "metadata": {},
     "output_type": "execute_result"
    }
   ],
   "source": [
    "[num for num in range(1,11)]"
   ]
  },
  {
   "cell_type": "markdown",
   "id": "cde88468",
   "metadata": {},
   "source": [
    "# Nested Loop"
   ]
  },
  {
   "cell_type": "code",
   "execution_count": 29,
   "id": "c246b3c0",
   "metadata": {},
   "outputs": [
    {
     "name": "stdout",
     "output_type": "stream",
     "text": [
      "a web\n",
      "a DS\n",
      "b web\n",
      "b DS\n",
      "c web\n",
      "c DS\n",
      "d web\n",
      "d DS\n"
     ]
    }
   ],
   "source": [
    "student = ['a','b','c','d']\n",
    "course = [\"web\",\"DS\"]\n",
    "\n",
    "for s in student :\n",
    "    for c in course:\n",
    "        print(s,c)"
   ]
  },
  {
   "cell_type": "code",
   "execution_count": 40,
   "id": "1b641058",
   "metadata": {},
   "outputs": [
    {
     "name": "stdout",
     "output_type": "stream",
     "text": [
      "1\tali ahmed\tDS\t\n",
      "2\tb\tAI\t\n",
      "3\tc\tWEB\t\n",
      "4\td\tDS\t\n"
     ]
    }
   ],
   "source": [
    "data = [[1,'ali ahmed',\"DS\"],\n",
    "       [2,'b',\"AI\"],\n",
    "       [3,'c',\"WEB\"],\n",
    "       [4,'d',\"DS\"]]\n",
    "\n",
    "for d in data :\n",
    "    for r in d :\n",
    "        print(r,end=\"\\t\")\n",
    "    print()\n",
    "    "
   ]
  },
  {
   "cell_type": "code",
   "execution_count": 42,
   "id": "b5ecde86",
   "metadata": {},
   "outputs": [
    {
     "data": {
      "text/plain": [
       "[1, 'ali ahmed', 'DS', 2, 'b', 'AI', 3, 'c', 'WEB', 4, 'd', 'DS']"
      ]
     },
     "execution_count": 42,
     "metadata": {},
     "output_type": "execute_result"
    }
   ],
   "source": [
    "#body parent loop chill loop\n",
    "[cell for row in data for cell in row]"
   ]
  },
  {
   "cell_type": "code",
   "execution_count": 45,
   "id": "a06e990f",
   "metadata": {},
   "outputs": [
    {
     "data": {
      "text/plain": [
       "['Odd', 'Even', 'Odd', 'Even', 'Odd', 'Even', 'Odd', 'Even', 'Odd', 'Even']"
      ]
     },
     "execution_count": 45,
     "metadata": {},
     "output_type": "execute_result"
    }
   ],
   "source": [
    "[ 'Even' if num % 2 == 0 else 'Odd' for num in range(1,11)]"
   ]
  },
  {
   "cell_type": "code",
   "execution_count": 55,
   "id": "cb849b49",
   "metadata": {},
   "outputs": [
    {
     "name": "stdout",
     "output_type": "stream",
     "text": [
      "2 is Even\n",
      "4 is Even\n",
      "6 is Even\n",
      "8 is Even\n",
      "10 is Even\n"
     ]
    },
    {
     "data": {
      "text/plain": [
       "[None, None, None, None, None]"
      ]
     },
     "execution_count": 55,
     "metadata": {},
     "output_type": "execute_result"
    }
   ],
   "source": [
    "[ print(num,\"is Even\") for num in range(1,11) if num%2==0]"
   ]
  },
  {
   "cell_type": "code",
   "execution_count": 56,
   "id": "603ef9d0",
   "metadata": {},
   "outputs": [
    {
     "data": {
      "text/plain": [
       "[(0, 'A'), (1, 'B'), (2, 'C'), (3, 'D')]"
      ]
     },
     "execution_count": 56,
     "metadata": {},
     "output_type": "execute_result"
    }
   ],
   "source": [
    "list(enumerate(names))"
   ]
  },
  {
   "cell_type": "code",
   "execution_count": 60,
   "id": "55b579bd",
   "metadata": {},
   "outputs": [
    {
     "name": "stdout",
     "output_type": "stream",
     "text": [
      "0 D\n"
     ]
    }
   ],
   "source": [
    "for indx, name in enumerate(names):\n",
    "    print(indx,name)"
   ]
  },
  {
   "cell_type": "code",
   "execution_count": null,
   "id": "914c4f78",
   "metadata": {},
   "outputs": [],
   "source": []
  }
 ],
 "metadata": {
  "kernelspec": {
   "display_name": "Python 3 (ipykernel)",
   "language": "python",
   "name": "python3"
  },
  "language_info": {
   "codemirror_mode": {
    "name": "ipython",
    "version": 3
   },
   "file_extension": ".py",
   "mimetype": "text/x-python",
   "name": "python",
   "nbconvert_exporter": "python",
   "pygments_lexer": "ipython3",
   "version": "3.9.12"
  }
 },
 "nbformat": 4,
 "nbformat_minor": 5
}
