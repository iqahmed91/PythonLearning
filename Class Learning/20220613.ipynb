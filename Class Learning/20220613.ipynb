{
 "cells": [
  {
   "cell_type": "code",
   "execution_count": 11,
   "id": "3b8c1f7d",
   "metadata": {},
   "outputs": [
    {
     "name": "stdout",
     "output_type": "stream",
     "text": [
      "<class 'str'>\n",
      "3\n",
      "iqbal ahmed\n"
     ]
    }
   ],
   "source": [
    "name = 'iqbal AHMED'\n",
    "name.capitalize()\n",
    "\n",
    "print(type(name))\n",
    "dir(str)\n",
    "print(name.find('a'))\n",
    "print(name.casefold())"
   ]
  },
  {
   "cell_type": "code",
   "execution_count": null,
   "id": "1d229f4c",
   "metadata": {},
   "outputs": [],
   "source": []
  }
 ],
 "metadata": {
  "kernelspec": {
   "display_name": "Python 3 (ipykernel)",
   "language": "python",
   "name": "python3"
  },
  "language_info": {
   "codemirror_mode": {
    "name": "ipython",
    "version": 3
   },
   "file_extension": ".py",
   "mimetype": "text/x-python",
   "name": "python",
   "nbconvert_exporter": "python",
   "pygments_lexer": "ipython3",
   "version": "3.9.12"
  }
 },
 "nbformat": 4,
 "nbformat_minor": 5
}
