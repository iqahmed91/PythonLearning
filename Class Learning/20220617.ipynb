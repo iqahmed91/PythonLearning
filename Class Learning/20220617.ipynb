{
 "cells": [
  {
   "cell_type": "markdown",
   "id": "a8ae640a",
   "metadata": {},
   "source": [
    "# Class 17 Jun \n",
    "* List\n",
    "* Tuple\n",
    "* set\n",
    "* dictionary"
   ]
  },
  {
   "cell_type": "markdown",
   "id": "f3da2844",
   "metadata": {},
   "source": [
    "# List"
   ]
  },
  {
   "cell_type": "code",
   "execution_count": 9,
   "id": "c47b7e54",
   "metadata": {},
   "outputs": [
    {
     "name": "stdout",
     "output_type": "stream",
     "text": [
      "asif\n",
      "shahzad\n"
     ]
    }
   ],
   "source": [
    "#List is declare in square bracket\n",
    "data = [['1','qasim','msds'],\n",
    "        ['2','asif','ai'],\n",
    "        ['3','ali','eng']\n",
    "        ]\n",
    "print(data[1][1])\n",
    "\n",
    "data[1][1] = 'shahzad'\n",
    "\n",
    "print(data[1][1])"
   ]
  },
  {
   "cell_type": "code",
   "execution_count": 12,
   "id": "14664092",
   "metadata": {},
   "outputs": [
    {
     "name": "stdout",
     "output_type": "stream",
     "text": [
      "saad\n"
     ]
    }
   ],
   "source": [
    "#Tupple is declared in round bracket\n",
    "name = ('ali','shahzad','saad')\n",
    "print(name[2])\n",
    "#tupple don't support changes in data"
   ]
  },
  {
   "cell_type": "markdown",
   "id": "4cab83a2",
   "metadata": {},
   "source": [
    "# Set"
   ]
  },
  {
   "cell_type": "code",
   "execution_count": 18,
   "id": "08726112",
   "metadata": {},
   "outputs": [],
   "source": [
    "#set don't allow dupplicate value and it declared in currly bracket\n",
    "set_name = {'qasim','ali','hamza','asif','qasim','hamza'}\n",
    "#set don't support index values"
   ]
  },
  {
   "cell_type": "markdown",
   "id": "91d24769",
   "metadata": {},
   "source": [
    "## Dictionary"
   ]
  },
  {
   "cell_type": "code",
   "execution_count": 24,
   "id": "5a66650a",
   "metadata": {},
   "outputs": [
    {
     "name": "stdout",
     "output_type": "stream",
     "text": [
      "aslam\n"
     ]
    }
   ],
   "source": [
    "#          0      1       2    3               #index\n",
    "data = ['qasim','aslam','AI','9pm to 12 am']  #values, elements\n",
    "\n",
    "#key always int or string\n",
    "d_data = {\n",
    "    #key : value\n",
    "    \"name\" : 'qasim',\n",
    "    \"fname\" : 'aslam',\n",
    "    \"course \": 'AI',\n",
    "    \"timming\" : '9 pm to 12 am'    \n",
    "}\n",
    "\n",
    "print(d_data['fname'])"
   ]
  },
  {
   "cell_type": "markdown",
   "id": "90024446",
   "metadata": {},
   "source": [
    "# Tupple method"
   ]
  },
  {
   "cell_type": "code",
   "execution_count": 35,
   "id": "82857336",
   "metadata": {},
   "outputs": [
    {
     "name": "stdout",
     "output_type": "stream",
     "text": [
      "('a', 'b', 'c', 'd', 'e', 'a')\n",
      "2\n",
      "0\n"
     ]
    }
   ],
   "source": [
    "names = ('a','b','c','d','e','a')\n",
    "print(names)\n",
    "print(names.count('a'))\n",
    "print(names.index('a'))\n",
    "\n",
    "\n"
   ]
  },
  {
   "cell_type": "code",
   "execution_count": 41,
   "id": "6a5260e2",
   "metadata": {},
   "outputs": [
    {
     "name": "stdout",
     "output_type": "stream",
     "text": [
      "{'c', 'e', 'd', 'a', 'b'}\n",
      "{'c', 'e', 'f', 'd', 'a', 'b'}\n",
      "{'c', 'e', 'f', 'd', 'a', 'b'}\n"
     ]
    }
   ],
   "source": [
    "set_name = {'a','b','c','d','e'}\n",
    "print(set_name)\n",
    "set_name.add('f')\n",
    "print(set_name)\n",
    "set_name.update('f','e')\n",
    "print(set_name)"
   ]
  },
  {
   "cell_type": "code",
   "execution_count": 47,
   "id": "59117388",
   "metadata": {},
   "outputs": [
    {
     "name": "stdout",
     "output_type": "stream",
     "text": [
      "{'c', 'd', 'e', 'a', 'b'}\n",
      "set()\n",
      "True\n"
     ]
    }
   ],
   "source": [
    "set_name1 = {'a','b','c','d','e'}\n",
    "set_name2 = {'j','i','h','g','f'}\n",
    "print(set_name1.difference(set_name2))\n",
    "print(set_name1.intersection(set_name2))\n",
    "print(set_name1.isdisjoint(set_name2))"
   ]
  },
  {
   "cell_type": "code",
   "execution_count": null,
   "id": "80430bdf",
   "metadata": {},
   "outputs": [],
   "source": []
  }
 ],
 "metadata": {
  "kernelspec": {
   "display_name": "Python 3 (ipykernel)",
   "language": "python",
   "name": "python3"
  },
  "language_info": {
   "codemirror_mode": {
    "name": "ipython",
    "version": 3
   },
   "file_extension": ".py",
   "mimetype": "text/x-python",
   "name": "python",
   "nbconvert_exporter": "python",
   "pygments_lexer": "ipython3",
   "version": "3.9.12"
  }
 },
 "nbformat": 4,
 "nbformat_minor": 5
}
