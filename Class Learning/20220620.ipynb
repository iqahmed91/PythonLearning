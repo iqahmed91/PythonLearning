{
 "cells": [
  {
   "cell_type": "markdown",
   "id": "5649abc8",
   "metadata": {},
   "source": [
    "# Controls"
   ]
  },
  {
   "cell_type": "markdown",
   "id": "4f593e81",
   "metadata": {},
   "source": [
    "\n",
    "* if\n",
    "    * elif\n",
    "    * else\n",
    "    \n",
    "* loop\n",
    "    * for\n",
    "    * while\n",
    "    * key_word\n",
    "        * pass\n",
    "        * continue\n",
    "        * break\n",
    "        \n",
    "* try\n",
    "    * except\n",
    "    \n",
    "* def (for creating your own function)"
   ]
  },
  {
   "cell_type": "markdown",
   "id": "7b0de1f2",
   "metadata": {},
   "source": [
    "# if\n",
    "    * elif\n",
    "    * else\n",
    "Sytanx\n",
    "\n",
    "--- \n",
    "if logic :\n",
    "    true block\n",
    "else :\n",
    "    false blook\n",
    "---"
   ]
  },
  {
   "cell_type": "code",
   "execution_count": 3,
   "id": "5f8598a2",
   "metadata": {},
   "outputs": [
    {
     "name": "stdout",
     "output_type": "stream",
     "text": [
      "USA\n"
     ]
    }
   ],
   "source": [
    "if False :\n",
    "    print (\"Pakistan\")\n",
    "else :\n",
    "    print (\"USA\")"
   ]
  },
  {
   "cell_type": "code",
   "execution_count": 8,
   "id": "8e3c3164",
   "metadata": {},
   "outputs": [
    {
     "name": "stdout",
     "output_type": "stream",
     "text": [
      "Entery any number :16\n",
      "16 is Even number \n"
     ]
    }
   ],
   "source": [
    "num = int(input(\"Entery any number :\"))\n",
    "if num % 2 == 0:\n",
    "    print(f\"{num} is Even number \")\n",
    "else :\n",
    "    print(f\"{num} is Odd number \")"
   ]
  },
  {
   "cell_type": "code",
   "execution_count": 10,
   "id": "a9a218a4",
   "metadata": {},
   "outputs": [
    {
     "name": "stdout",
     "output_type": "stream",
     "text": [
      "Enter User Name :Sylani\n",
      "Enter Password :kuch aur\n",
      "Please try again\n"
     ]
    }
   ],
   "source": [
    "user = input(\"Enter User Name :\")\n",
    "pwd  = input(\"Enter Password :\")\n",
    "\n",
    "if user == \"Sylani\" and pwd == \"Sylani\" :\n",
    "    print(\"User Granted\")\n",
    "else :\n",
    "    print(\"Please try again\")"
   ]
  },
  {
   "cell_type": "code",
   "execution_count": 16,
   "id": "859b20ae",
   "metadata": {},
   "outputs": [
    {
     "name": "stdout",
     "output_type": "stream",
     "text": [
      "Enter Percentage :65\n",
      "Your Grade is C\n"
     ]
    }
   ],
   "source": [
    "per = int(input(\"Enter Percentage :\"))\n",
    "if per >= 80 and per < 100 :\n",
    "    print(\"Your Grade is A\")\n",
    "elif per >= 70 and per < 80 :\n",
    "    print(\"Your Grade is B\")\n",
    "elif per >=60 and per <70 : \n",
    "    print(\"Your Grade is C\")\n",
    "else :\n",
    "    print(\"You are Fail\")"
   ]
  },
  {
   "cell_type": "code",
   "execution_count": 17,
   "id": "a0502401",
   "metadata": {},
   "outputs": [
    {
     "data": {
      "text/plain": [
       "4.0"
      ]
     },
     "execution_count": 17,
     "metadata": {},
     "output_type": "execute_result"
    }
   ],
   "source": [
    "1 + 2 - 3 + 4 * 2/2"
   ]
  },
  {
   "cell_type": "markdown",
   "id": "a7c88197",
   "metadata": {},
   "source": [
    "# Loop\n",
    "## While Loop\n",
    "\n",
    "* Flag = True\n",
    "\n",
    "--- \n",
    "Syntax\n",
    " while flag :\n",
    " loop body\n",
    " flag update \n",
    " ---\n",
    " "
   ]
  },
  {
   "cell_type": "code",
   "execution_count": 33,
   "id": "922c721e",
   "metadata": {},
   "outputs": [
    {
     "name": "stdout",
     "output_type": "stream",
     "text": [
      "Please enter a Number : 7\n",
      "Number is Prime\n"
     ]
    }
   ],
   "source": [
    "num = int(input(\"Please enter a Number : \"))\n",
    "cnt = 2\n",
    "prime_flag = False\n",
    "while cnt <= num/2 :\n",
    "    m = num % cnt\n",
    "    if m == 0 :\n",
    "        prime_flag = True\n",
    "    #print(f\"Counter : {cnt} Modules : {m} Couter -1 : {cnt-1}\")\n",
    "    cnt += 1\n",
    "\n",
    "if prime_flag:\n",
    "        print(\"Number is not Prime\")\n",
    "else :\n",
    "        print(\"Number is Prime\")\n",
    "    "
   ]
  },
  {
   "cell_type": "code",
   "execution_count": 21,
   "id": "d56528a4",
   "metadata": {},
   "outputs": [
    {
     "name": "stdout",
     "output_type": "stream",
     "text": [
      "Please Enter User Id : iqbal\n",
      "Please Enter Name :ahmed\n",
      "Please Enter Courseai\n",
      "Please Enter User Id : saleem\n",
      "Please Enter Name ::X\n",
      "{'', 'iqbal', 'saleem'}\n",
      "{'', 'ai'}\n",
      "{'', 'ahmed'}\n"
     ]
    }
   ],
   "source": [
    "user_id_list = {''}\n",
    "name_list ={''}\n",
    "course_list = {''}\n",
    "\n",
    "while 1 < 2 :\n",
    "    user_id = input(\"Please Enter User Id : \")\n",
    "    if user_id == \":X\" :\n",
    "        break\n",
    "    else :\n",
    "       user_id_list.add(user_id) \n",
    "    name =  input(\"Please Enter Name :\")\n",
    "    if name == \":X\" :\n",
    "        break\n",
    "    else :\n",
    "        name_list.add(name) \n",
    "    course = input(\"Please Enter Course\")\n",
    "    if course == \":X\" :\n",
    "        break\n",
    "    else :\n",
    "        course_list.add(course) \n",
    "\n",
    "print(user_id_list)\n",
    "print(course_list)\n",
    "print(name_list)"
   ]
  },
  {
   "cell_type": "code",
   "execution_count": null,
   "id": "3576aceb",
   "metadata": {},
   "outputs": [],
   "source": []
  },
  {
   "cell_type": "code",
   "execution_count": null,
   "id": "9fbbed6a",
   "metadata": {},
   "outputs": [],
   "source": []
  }
 ],
 "metadata": {
  "kernelspec": {
   "display_name": "Python 3 (ipykernel)",
   "language": "python",
   "name": "python3"
  },
  "language_info": {
   "codemirror_mode": {
    "name": "ipython",
    "version": 3
   },
   "file_extension": ".py",
   "mimetype": "text/x-python",
   "name": "python",
   "nbconvert_exporter": "python",
   "pygments_lexer": "ipython3",
   "version": "3.9.12"
  }
 },
 "nbformat": 4,
 "nbformat_minor": 5
}
