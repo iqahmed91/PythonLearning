{
 "cells": [
  {
   "cell_type": "code",
   "execution_count": 45,
   "id": "8c7f6622",
   "metadata": {},
   "outputs": [
    {
     "name": "stdout",
     "output_type": "stream",
     "text": [
      "Please Input User Id : 1\n",
      "Please Input User Name : a\n",
      "[['1', 'a']]\n",
      "Please Input User Id : 2\n",
      "Please Input User Name : b\n",
      "[['2', 'b']]\n"
     ]
    },
    {
     "ename": "IndexError",
     "evalue": "list index out of range",
     "output_type": "error",
     "traceback": [
      "\u001b[1;31m---------------------------------------------------------------------------\u001b[0m",
      "\u001b[1;31mIndexError\u001b[0m                                Traceback (most recent call last)",
      "Input \u001b[1;32mIn [45]\u001b[0m, in \u001b[0;36m<cell line: 12>\u001b[1;34m()\u001b[0m\n\u001b[0;32m      9\u001b[0m     lst\u001b[38;5;241m.\u001b[39mclear()\n\u001b[0;32m     10\u001b[0m     cnt \u001b[38;5;241m+\u001b[39m\u001b[38;5;241m=\u001b[39m \u001b[38;5;241m1\u001b[39m\n\u001b[1;32m---> 12\u001b[0m \u001b[38;5;28mprint\u001b[39m(\u001b[43mlst\u001b[49m\u001b[43m[\u001b[49m\u001b[38;5;241;43m1\u001b[39;49m\u001b[43m]\u001b[49m[\u001b[38;5;241m1\u001b[39m])\n",
      "\u001b[1;31mIndexError\u001b[0m: list index out of range"
     ]
    }
   ],
   "source": [
    "cnt = 0\n",
    "lst = []\n",
    "data = []\n",
    "while cnt < 2 :\n",
    "    user_id = input(\"Please Input User Id : \") \n",
    "    user_name = input(\"Please Input User Name : \") \n",
    "    lst.append([user_id,user_name])\n",
    "    print(lst)\n",
    "    lst.clear()\n",
    "    cnt += 1\n",
    "    \n",
    "print(lst[1][1])"
   ]
  },
  {
   "cell_type": "code",
   "execution_count": null,
   "id": "13746d34",
   "metadata": {},
   "outputs": [],
   "source": []
  }
 ],
 "metadata": {
  "kernelspec": {
   "display_name": "Python 3 (ipykernel)",
   "language": "python",
   "name": "python3"
  },
  "language_info": {
   "codemirror_mode": {
    "name": "ipython",
    "version": 3
   },
   "file_extension": ".py",
   "mimetype": "text/x-python",
   "name": "python",
   "nbconvert_exporter": "python",
   "pygments_lexer": "ipython3",
   "version": "3.9.12"
  }
 },
 "nbformat": 4,
 "nbformat_minor": 5
}
